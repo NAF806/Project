{
 "cells": [
  {
   "cell_type": "code",
   "execution_count": null,
   "metadata": {
    "button": false,
    "collapsed": true,
    "deletable": true,
    "new_sheet": false,
    "run_control": {
     "read_only": false
    }
   },
   "outputs": [],
   "source": [
    "import numpy as np  \n",
    "import numpy.random as random  \n",
    "import matplotlib.pyplot as plt\n",
    "import matplotlib.image as mpimg\n",
    "from matplotlib.pyplot import figure\n",
    "import random\n",
    "\n",
    "%matplotlib inline"
   ]
  },
  {
   "cell_type": "code",
   "execution_count": null,
   "metadata": {
    "collapsed": true
   },
   "outputs": [],
   "source": [
    "import sys\n",
    "import matplotlib \n",
    "print(\"Python version: {}\".format(sys.version))\n",
    "print(\"Matplotlib version: {}\".format(matplotlib.__version__))"
   ]
  },
  {
   "cell_type": "code",
   "execution_count": null,
   "metadata": {
    "collapsed": true
   },
   "outputs": [],
   "source": [
    "import json\n",
    "import copy \n",
    "\n",
    "from IPython.core.interactiveshell import InteractiveShell\n",
    "\n",
    "InteractiveShell.ast_node_interactivity = \"all\"\n",
    "\n",
    "map = mpimg.imread(\"map.png\")  \n",
    "\n"
   ]
  },
  {
   "cell_type": "code",
   "execution_count": null,
   "metadata": {
    "collapsed": true
   },
   "outputs": [],
   "source": [
    "with open('capitals.json', 'r') as capitals_file:\n",
    "    capitals = json.load(capitals_file)\n",
    "    \n",
    "    \n",
    "capitals_list = list(capitals.items())\n",
    "\n",
    "capitals_list = [(c[0], tuple(c[1])) for c in capitals_list]\n",
    "# if this [ ... for ... in ... ] syntax is unfamilier look up python list comprehension \n",
    "\n",
    "print(capitals_list)\n",
    "\n",
    "print(\"example : \")\n",
    "\n",
    "print(capitals_list[0])"
   ]
  },
  {
   "cell_type": "code",
   "execution_count": null,
   "metadata": {
    "collapsed": true,
    "run_control": {}
   },
   "outputs": [],
   "source": [
    "def coord(path):\n",
    "        \"\"\"Strip the city name from each element of the path list and return\n",
    "        a list of tuples containing only pairs of xy coordinates for the\n",
    "        cities. For example,\n",
    "            [(\"Atlanta\", (585.6, 376.8)), ...] -> [(585.6, 376.8), ...]\n",
    "        \"\"\"\n",
    "        _, coord = path\n",
    "        return coord\n",
    "\n",
    "def coords(path):\n",
    "        \"\"\"Strip the city name from each element of the path list and return\n",
    "        a list of tuples containing only pairs of xy coordinates for the\n",
    "        cities. For example,\n",
    "            [(\"Atlanta\", (585.6, 376.8)), ...] -> [(585.6, 376.8), ...]\n",
    "        \"\"\"\n",
    "        _, coords = zip(*path)\n",
    "        return coords\n",
    "    \n",
    "def show_path(path_, starting_city, w=35, h=15):\n",
    "    \"\"\"Plot a TSP path overlaid on a map of the US States & their capitals.\"\"\"\n",
    "    path=coords(path_) \n",
    "    x, y = list(zip(*path))\n",
    "    \n",
    "    _, (x0, y0) = starting_city\n",
    "    \n",
    "    plt.imshow(map)\n",
    "    plt.plot(x0, y0, 'y*', markersize=15)  # y* = yellow star for starting point\n",
    "    plt.plot(x + x[:1], y + y[:1])  # include the starting point at the end of path\n",
    "    plt.axis(\"off\")\n",
    "    fig = plt.gcf()\n",
    "    fig.set_size_inches([w, h])"
   ]
  },
  {
   "cell_type": "code",
   "execution_count": null,
   "metadata": {
    "collapsed": true
   },
   "outputs": [],
   "source": [
    "def temp_sched (t):\n",
    "    t0=1e11\n",
    "    a=0.98\n",
    "    return (a**t) * t0\n",
    "temp_sched(10)"
   ]
  },
  {
   "cell_type": "code",
   "execution_count": null,
   "metadata": {
    "collapsed": true
   },
   "outputs": [],
   "source": [
    "import numpy as np\n",
    "import random\n",
    "\n",
    "\n",
    "\n",
    "def rand_path(n):\n",
    "    path=random.sample(capitals_list,n)\n",
    "    show_path(path,path[0])\n",
    "    return path\n",
    "\n",
    "path=rand_path(8)\n",
    "\n",
    "print(path)\n",
    "print('number of cities = ', pathlength)"
   ]
  },
  {
   "cell_type": "code",
   "execution_count": null,
   "metadata": {
    "collapsed": true
   },
   "outputs": [],
   "source": []
  }
 ],
 "metadata": {
  "kernelspec": {
   "display_name": "Python 3",
   "language": "python",
   "name": "python3"
  },
  "language_info": {
   "codemirror_mode": {
    "name": "ipython",
    "version": 3
   },
   "file_extension": ".py",
   "mimetype": "text/x-python",
   "name": "python",
   "nbconvert_exporter": "python",
   "pygments_lexer": "ipython3",
   "version": "3.5.0"
  }
 },
 "nbformat": 4,
 "nbformat_minor": 0
}
